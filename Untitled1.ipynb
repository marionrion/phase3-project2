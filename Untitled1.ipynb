{
 "cells": [
  {
   "cell_type": "code",
   "execution_count": null,
   "metadata": {},
   "outputs": [],
   "source": [
    "strong_correlations = correlation[abs(correlation) > 0.7]  # Adjust threshold for strong correlation\n",
    "print(\"Strong Positive Correlations:\")\n",
    "print(strong_correlations.where(~np.tril(np.ones(strong_correlations.shape)).astype(bool)))  # Filter upper triangle\n",
    "print(\"\\nStrong Negative Correlations:\")\n",
    "print(strong_correlations.where(np.tril(np.ones(strong_correlations.shape)).astype(bool)))  # Filter lower triangle"
   ]
  },
  {
   "cell_type": "code",
   "execution_count": null,
   "metadata": {},
   "outputs": [],
   "source": [
    "import matplotlib.pyplot as plt\n",
    "import seaborn as sns\n",
    "\n",
    "correlation = df.corr()\n",
    "\n",
    "# Increase figure size for a larger heatmap\n",
    "plt.figure(figsize=(12, 8))  # Adjust width and height as needed\n",
    "\n",
    "# Create heatmap with customizations\n",
    "sns.heatmap(correlation, annot=True, cmap='coolwarm', vmin=-1, vmax=1)\n",
    "\n",
    "# Customize labels and title\n",
    "plt.xticks(rotation=45, ha='right')  # Rotate x-axis labels for readability\n",
    "plt.yticks(rotation=0)  # Keep y-axis labels horizontal\n",
    "plt.title('Correlation Matrix (Pearson)', fontsize=14)  # Add specific correlation type\n",
    "\n",
    "# Add colorbar\n",
    "plt.colorbar(label='Correlation Coefficient')  # Label the colorbar\n",
    "\n",
    "plt.tight_layout()  \n",
    "plt.show()"
   ]
  },
  {
   "cell_type": "code",
   "execution_count": null,
   "metadata": {},
   "outputs": [],
   "source": [
    "strong_correlations = correlation[abs(correlation) > 0.7]  # Adjust threshold for strong correlation\n",
    "print(\"Strong Positive Correlations:\")\n",
    "print(strong_correlations.where(~np.tril(np.ones(strong_correlations.shape)).astype(bool)))  # Filter upper triangle\n",
    "print(\"\\nStrong Negative Correlations:\")\n",
    "print(strong_correlations.where(np.tril(np.ones(strong_correlations.shape)).astype(bool)))  # Filter lower triangle"
   ]
  },
  {
   "cell_type": "code",
   "execution_count": null,
   "metadata": {},
   "outputs": [],
   "source": [
    "While the heatmap aimed to identify strong correlations between variables, the results require further exploration due to missing values in the data. There is a strong negative correlation between construction year and age, which makes sense as newer construction years correspond to younger water points. However, interpreting other correlations might be challenging due to missing data. Additionally, the high correlation between population and pop_year suggests potential redundancy in the information they provide. i consider addressing missing values and investigating possible multicollinearity between population and pop_year.\n",
    "\n",
    "The presence of perfectly correlated predictors necessitates addressing multicollinearity to avoid unreliable model coefficients.\n",
    "\n",
    "multicollinearity"
   ]
  },
  {
   "cell_type": "code",
   "execution_count": null,
   "metadata": {},
   "outputs": [],
   "source": []
  },
  {
   "cell_type": "code",
   "execution_count": null,
   "metadata": {},
   "outputs": [],
   "source": [
    "df1=df.corr().abs().stack().reset_index().sort_values(0, ascending=False)\n",
    "\n",
    "# zip the variable name columns (Which were only named level_0 and level_1 by default) in a new column named \"pairs\"\n",
    "df1['pairs'] = list(zip(df1.level_0, df1.level_1))\n",
    "\n",
    "# set index to pairs\n",
    "df1.set_index(['pairs'], inplace = True)\n",
    "\n",
    "#d rop level columns\n",
    "df1.drop(columns=['level_1', 'level_0'], inplace = True)\n",
    "\n",
    "# rename correlation column as cc rather than 0\n",
    "df1.columns = ['cc']\n",
    "\n",
    "# drop duplicates. This could be dangerous i\n",
    "df1[(df1.cc>.75) & (df1.cc <1)]"
   ]
  },
  {
   "cell_type": "code",
   "execution_count": null,
   "metadata": {},
   "outputs": [],
   "source": []
  },
  {
   "cell_type": "code",
   "execution_count": null,
   "metadata": {},
   "outputs": [],
   "source": []
  },
  {
   "cell_type": "code",
   "execution_count": null,
   "metadata": {},
   "outputs": [],
   "source": []
  }
 ],
 "metadata": {
  "kernelspec": {
   "display_name": "Python 3",
   "language": "python",
   "name": "python3"
  },
  "language_info": {
   "codemirror_mode": {
    "name": "ipython",
    "version": 3
   },
   "file_extension": ".py",
   "mimetype": "text/x-python",
   "name": "python",
   "nbconvert_exporter": "python",
   "pygments_lexer": "ipython3",
   "version": "3.8.5"
  }
 },
 "nbformat": 4,
 "nbformat_minor": 4
}
